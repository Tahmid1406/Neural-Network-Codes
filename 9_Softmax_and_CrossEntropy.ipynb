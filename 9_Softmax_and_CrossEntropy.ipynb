{
 "cells": [
  {
   "cell_type": "code",
   "execution_count": 3,
   "metadata": {},
   "outputs": [],
   "source": [
    "# devide samples into batches\n",
    "# use of Dataloader class\n",
    "\n",
    "import torch\n",
    "import torchvision\n",
    "from torch.utils.data import Dataset,DataLoader\n",
    "import numpy as np\n",
    "import math\n",
    "import torch.nn as nn"
   ]
  },
  {
   "cell_type": "markdown",
   "metadata": {},
   "source": [
    "# Custom Softmax"
   ]
  },
  {
   "cell_type": "code",
   "execution_count": 4,
   "metadata": {},
   "outputs": [
    {
     "name": "stdout",
     "output_type": "stream",
     "text": [
      "Softmax Numpy:  [0.65900114 0.24243297 0.09856589]\n"
     ]
    }
   ],
   "source": [
    "def softmax(x):\n",
    "    return np.exp(x)/ np.sum(np.exp(x), axis=0)\n",
    "\n",
    "\n",
    "\n",
    "x = np.array([2.0, 1.0, 0.1])\n",
    "\n",
    "\n",
    "outputs = softmax(x)\n",
    "print('Softmax Numpy: ', outputs)"
   ]
  },
  {
   "cell_type": "markdown",
   "metadata": {},
   "source": [
    "# Torch Softmax"
   ]
  },
  {
   "cell_type": "code",
   "execution_count": 5,
   "metadata": {},
   "outputs": [
    {
     "name": "stdout",
     "output_type": "stream",
     "text": [
      "tensor([0.6590, 0.2424, 0.0986])\n"
     ]
    }
   ],
   "source": [
    "x = torch.tensor([2.0, 1.0, 0.1])\n",
    "\n",
    "outputs = torch.softmax(x, dim=0)\n",
    "print(outputs)"
   ]
  },
  {
   "cell_type": "markdown",
   "metadata": {},
   "source": [
    "# Custom cross entropy"
   ]
  },
  {
   "cell_type": "code",
   "execution_count": 6,
   "metadata": {},
   "outputs": [
    {
     "name": "stdout",
     "output_type": "stream",
     "text": [
      "0.35667494393873245\n",
      "1.6094379124341003\n"
     ]
    }
   ],
   "source": [
    "# in most of the cases, the result of softmax is combined with cross entropy\n",
    "# cross entropy measure the loss (performance of classification model)\n",
    "# the more accurate the probability, the less is the value of the loss\n",
    "# to use cross entropy the Y must be one hot\n",
    "\n",
    "def cross_entropy(actual, predicted):\n",
    "    loss = -np.sum(actual * np.log(predicted))\n",
    "    return loss\n",
    "\n",
    "y_good_pred = np.array([0.7, 0.2, 0.1])\n",
    "y_bad_pred = np.array([0.2, 0.7, 0.1])\n",
    "y = np.array([1,0,0])\n",
    "\n",
    "l1 = cross_entropy(y, y_good_pred)\n",
    "l2 = cross_entropy(y, y_bad_pred)\n",
    "print(l1)\n",
    "print(l2)\n",
    "\n",
    "#bad prediction having high loss"
   ]
  },
  {
   "cell_type": "markdown",
   "metadata": {},
   "source": [
    "# torch cross entropy"
   ]
  },
  {
   "cell_type": "code",
   "execution_count": 12,
   "metadata": {},
   "outputs": [
    {
     "name": "stdout",
     "output_type": "stream",
     "text": [
      "0.4643687903881073\n",
      "2.580195903778076\n",
      "torch.return_types.max(\n",
      "values=tensor([2.]),\n",
      "indices=tensor([0]))\n",
      "torch.return_types.max(\n",
      "values=tensor([2.5000]),\n",
      "indices=tensor([1]))\n"
     ]
    }
   ],
   "source": [
    "# torch cross entropy already comes with logSoftmax + negative logloss\n",
    "# so NO ONE HOT for y\n",
    "# and NO SOFTMAX IN THE LAST LAYER IS REQUIRED\n",
    "\n",
    "loss = nn.CrossEntropyLoss()\n",
    "\n",
    "y = torch.tensor([0])\n",
    "# the size of y is n_samples * nClasses = 1*3\n",
    "y_pred_good = torch.tensor([[2.0, 0.5, 1.0]])\n",
    "\n",
    "y_pred_bad = torch.tensor([[0.2, 2.5, 1.0]])\n",
    "\n",
    "l1 = loss(y_pred_good, y)\n",
    "l2 = loss(y_pred_bad, y)\n",
    "print(l1.item())\n",
    "print(l2.item())\n",
    "\n",
    "#bad prediction having high loss\n",
    "\n",
    "# getting the prediction values\n",
    "\n",
    "prediction1 = torch.max(y_pred_good, 1)\n",
    "prediction2 = torch.max(y_pred_bad, 1)\n",
    "\n",
    "print(prediction1)\n",
    "print(prediction2)"
   ]
  },
  {
   "cell_type": "markdown",
   "metadata": {},
   "source": [
    "# multi class"
   ]
  },
  {
   "cell_type": "code",
   "execution_count": 13,
   "metadata": {},
   "outputs": [
    {
     "name": "stdout",
     "output_type": "stream",
     "text": [
      "0.1618243157863617\n",
      "2.890000343322754\n",
      "torch.return_types.max(\n",
      "values=tensor([3., 2., 5.]),\n",
      "indices=tensor([2, 0, 1]))\n",
      "torch.return_types.max(\n",
      "values=tensor([2.5000, 5.0000, 2.0000]),\n",
      "indices=tensor([1, 1, 0]))\n"
     ]
    }
   ],
   "source": [
    "# torch cross entropy already comes with logSoftmax + negative logloss\n",
    "# so NO ONE HOT for y\n",
    "# and NO SOFTMAX IN THE LAST LAYER IS REQUIRED\n",
    "\n",
    "loss = nn.CrossEntropyLoss()\n",
    "\n",
    "# 3 samples\n",
    "y = torch.tensor([2,0,1])\n",
    "# the size of y is n_samples * nClasses = 3*3\n",
    "y_pred_good = torch.tensor([[0.2, 0.5, 3.0], [2.0, 0.5, 0.2], [0.1, 5.0, 0.9]])\n",
    "\n",
    "y_pred_bad = torch.tensor([[0.2, 2.5, 1.0],[0.1, 5.0, 1.0],[2.0, 0.5, 1.0]])\n",
    "\n",
    "l1 = loss(y_pred_good, y)\n",
    "l2 = loss(y_pred_bad, y)\n",
    "print(l1.item())\n",
    "print(l2.item())\n",
    "\n",
    "#bad prediction having high loss\n",
    "\n",
    "# getting the prediction values\n",
    "\n",
    "prediction1 = torch.max(y_pred_good, 1)\n",
    "prediction2 = torch.max(y_pred_bad, 1)\n",
    "\n",
    "print(prediction1)\n",
    "print(prediction2)"
   ]
  },
  {
   "cell_type": "code",
   "execution_count": null,
   "metadata": {},
   "outputs": [],
   "source": []
  }
 ],
 "metadata": {
  "kernelspec": {
   "display_name": "Python 3",
   "language": "python",
   "name": "python3"
  },
  "language_info": {
   "codemirror_mode": {
    "name": "ipython",
    "version": 3
   },
   "file_extension": ".py",
   "mimetype": "text/x-python",
   "name": "python",
   "nbconvert_exporter": "python",
   "pygments_lexer": "ipython3",
   "version": "3.7.6"
  }
 },
 "nbformat": 4,
 "nbformat_minor": 4
}
