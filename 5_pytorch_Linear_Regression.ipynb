{
 "cells": [
  {
   "cell_type": "code",
   "execution_count": 1,
   "metadata": {},
   "outputs": [],
   "source": [
    "# steps\n",
    "# 1. Design model (input, output, forward pass)\n",
    "# 2. Construct loss and optimizer\n",
    "\n",
    "# 3. Training Loop\n",
    "    # - forward pass -> compute prediction\n",
    "    # - backward pass -> gradiants\n",
    "    # - update weights"
   ]
  },
  {
   "cell_type": "code",
   "execution_count": 2,
   "metadata": {},
   "outputs": [
    {
     "name": "stderr",
     "output_type": "stream",
     "text": [
      "C:\\Users\\ASUS\\Anaconda3\\envs\\tensorflow\\lib\\importlib\\_bootstrap.py:219: RuntimeWarning: numpy.ufunc size changed, may indicate binary incompatibility. Expected 192 from C header, got 216 from PyObject\n",
      "  return f(*args, **kwds)\n",
      "C:\\Users\\ASUS\\Anaconda3\\envs\\tensorflow\\lib\\importlib\\_bootstrap.py:219: RuntimeWarning: numpy.ufunc size changed, may indicate binary incompatibility. Expected 192 from C header, got 216 from PyObject\n",
      "  return f(*args, **kwds)\n",
      "C:\\Users\\ASUS\\Anaconda3\\envs\\tensorflow\\lib\\importlib\\_bootstrap.py:219: RuntimeWarning: numpy.ufunc size changed, may indicate binary incompatibility. Expected 192 from C header, got 216 from PyObject\n",
      "  return f(*args, **kwds)\n",
      "C:\\Users\\ASUS\\Anaconda3\\envs\\tensorflow\\lib\\importlib\\_bootstrap.py:219: RuntimeWarning: numpy.ufunc size changed, may indicate binary incompatibility. Expected 192 from C header, got 216 from PyObject\n",
      "  return f(*args, **kwds)\n"
     ]
    }
   ],
   "source": [
    "import torch\n",
    "import torch.nn as nn\n",
    "import numpy as np \n",
    "from sklearn import datasets\n",
    "import matplotlib.pyplot as plt"
   ]
  },
  {
   "cell_type": "code",
   "execution_count": 10,
   "metadata": {},
   "outputs": [
    {
     "name": "stdout",
     "output_type": "stream",
     "text": [
      "epoch: 10, loss = 4458.7949\n",
      "epoch: 20, loss = 3324.6575\n",
      "epoch: 30, loss = 2504.2117\n",
      "epoch: 40, loss = 1910.0500\n",
      "epoch: 50, loss = 1479.3314\n",
      "epoch: 60, loss = 1166.8058\n",
      "epoch: 70, loss = 939.8463\n",
      "epoch: 80, loss = 774.8951\n",
      "epoch: 90, loss = 654.9245\n",
      "epoch: 100, loss = 567.6101\n"
     ]
    },
    {
     "data": {
      "image/png": "[encoded data removed]",
      "text/plain": [
       "<Figure size 432x288 with 1 Axes>"
      ]
     },
     "metadata": {
      "needs_background": "light"
     },
     "output_type": "display_data"
    }
   ],
   "source": [
    "# Steps\n",
    "# 0. Prepare dataset\n",
    "# 1. Design model\n",
    "# 2. Loss and optimizer\n",
    "# 3. Training Loop\n",
    "\n",
    "X_numpy, Y_numpy = datasets.make_regression(n_samples=100, n_features=1, noise = 20, random_state=1)\n",
    "\n",
    "X = torch.from_numpy(X_numpy.astype(np.float32))\n",
    "y = torch.from_numpy(Y_numpy.astype(np.float32))\n",
    "\n",
    "#reshape\n",
    "y = y.view(y.shape[0], 1)\n",
    "\n",
    "n_sample, n_features = X.shape\n",
    "\n",
    "#model\n",
    "\n",
    "input_size = n_features\n",
    "output_size = 1\n",
    "model = nn.Linear(input_size, output_size)\n",
    "\n",
    "# 2. Loss and optimizer\n",
    "criterion = nn.MSELoss()\n",
    "\n",
    "lrr = 0.01\n",
    "optimizer = torch.optim.SGD(model.parameters(), lr=lrr)\n",
    "\n",
    "#training loop\n",
    "epochsss = 100\n",
    "\n",
    "for epoch in range(epochsss):\n",
    "    # - forward pass -> compute prediction\n",
    "    y_predicted = model(X)\n",
    "    loss = criterion(y, y_predicted)\n",
    "    \n",
    "    # - backward pass -> gradiants\n",
    "    loss.backward()\n",
    "    \n",
    "    # - update weights\n",
    "    optimizer.step()\n",
    "    optimizer.zero_grad()\n",
    "    \n",
    "    if(epoch+1) % 10 == 0:\n",
    "        print(f'epoch: {epoch+1}, loss = {loss.item():.4f}')\n",
    "\n",
    "#plot\n",
    "predicted = model(X).detach().numpy()\n",
    "\n",
    "plt.plot(X_numpy, Y_numpy, 'ro')\n",
    "plt.plot(X_numpy, predicted, 'b')\n",
    "plt.show()\n"
   ]
  },
  {
   "cell_type": "code",
   "execution_count": null,
   "metadata": {},
   "outputs": [],
   "source": []
  }
 ],
 "metadata": {
  "kernelspec": {
   "display_name": "Python 3",
   "language": "python",
   "name": "python3"
  },
  "language_info": {
   "codemirror_mode": {
    "name": "ipython",
    "version": 3
   },
   "file_extension": ".py",
   "mimetype": "text/x-python",
   "name": "python",
   "nbconvert_exporter": "python",
   "pygments_lexer": "ipython3",
   "version": "3.7.6"
  }
 },
 "nbformat": 4,
 "nbformat_minor": 4
}
