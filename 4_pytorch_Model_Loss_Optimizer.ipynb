{
 "cells": [
  {
   "cell_type": "code",
   "execution_count": 1,
   "metadata": {},
   "outputs": [],
   "source": [
    "# steps\n",
    "# 1. Design model (input, output, forward pass)\n",
    "# 2. Construct loss and optimizer\n",
    "\n",
    "# 3. Training Loop\n",
    "    # - forward pass -> compute prediction\n",
    "    # - backward pass -> gradiants\n",
    "    # - update weights\n"
   ]
  },
  {
   "cell_type": "code",
   "execution_count": 17,
   "metadata": {},
   "outputs": [
    {
     "name": "stdout",
     "output_type": "stream",
     "text": [
      "4 1\n",
      "epoch 1: w = 0.390, loss = 36.94116974\n",
      "epoch 1001: w = 2.002, loss = 0.00000838\n",
      "epoch 2001: w = 2.000, loss = 0.00000002\n",
      "prediction after training f(5) = 10.000\n"
     ]
    }
   ],
   "source": [
    "import torch\n",
    "import torch.nn as nn # neural network module to use the function\n",
    "\n",
    "X = torch.tensor([[1],[2],[3],[4]], dtype = torch.float32)\n",
    "Y = torch.tensor([[2],[4],[6],[8]], dtype = torch.float32)\n",
    "\n",
    "\n",
    "n_samples, n_feature = X.shape\n",
    "print(n_samples, n_feature)\n",
    "\n",
    "input_size = n_feature\n",
    "output_size = n_feature\n",
    "\n",
    "model = nn.Linear(input_size, output_size)\n",
    "\n",
    "X_test = torch.tensor([5], dtype = torch.float32)\n",
    "  \n",
    "    \n",
    "lrr = 0.01\n",
    "iter = 3000\n",
    "loss = nn.MSELoss()\n",
    "optimizer = torch.optim.SGD(model.parameters(), lrr)\n",
    "\n",
    "for epochs in range(iter):\n",
    "    # prediction = forward pass\n",
    "    y_pred = model(X)\n",
    "    \n",
    "    # loss\n",
    "    l = loss(Y,y_pred)\n",
    "    \n",
    "    #gradiant = backward pass\n",
    "    \n",
    "    l.backward() #gradiant of our loss\n",
    "    \n",
    "    #update weight\n",
    "    optimizer.step()\n",
    "    # empty the weights \n",
    "    optimizer.zero_grad()\n",
    "    \n",
    "    if epochs % 1000 == 0:\n",
    "        [w,b] = model.parameters()\n",
    "        print(f'epoch {epochs+1}: w = {w[0][0].item():.3f}, loss = {l:.8f}')\n",
    "        \n",
    "    \n",
    "print(f'prediction after training f(5) = {model(X_test).item():.3f}')\n",
    "\n",
    "# so we can see that we have trained up-untill the 4th number \n",
    "# and it could predict the 5th number correctly\n"
   ]
  },
  {
   "cell_type": "markdown",
   "metadata": {},
   "source": [
    "# Same thing with a class"
   ]
  },
  {
   "cell_type": "code",
   "execution_count": 21,
   "metadata": {},
   "outputs": [
    {
     "name": "stdout",
     "output_type": "stream",
     "text": [
      "4 1\n",
      "epoch 1: w = 1.004, loss = 10.06865406\n",
      "epoch 1001: w = 1.993, loss = 0.00006213\n",
      "epoch 2001: w = 2.000, loss = 0.00000015\n",
      "prediction after training f(5) = 10.000\n"
     ]
    }
   ],
   "source": [
    "import torch\n",
    "import torch.nn as nn # neural network module to use the function\n",
    "\n",
    "X = torch.tensor([[1],[2],[3],[4]], dtype = torch.float32)\n",
    "Y = torch.tensor([[2],[4],[6],[8]], dtype = torch.float32)\n",
    "\n",
    "\n",
    "n_samples, n_feature = X.shape\n",
    "print(n_samples, n_feature)\n",
    "\n",
    "input_size = n_feature\n",
    "output_size = n_feature\n",
    "\n",
    "\n",
    "class LinearRegression(nn.Module):\n",
    "    \n",
    "    def __init__(self, input_dim, output_dim):\n",
    "        super(LinearRegression, self).__init__()\n",
    "        self.lin = nn.Linear(input_dim, output_dim)\n",
    "        \n",
    "    def forward(self, x):\n",
    "        return self.lin(x)\n",
    "\n",
    "\n",
    "model = LinearRegression(input_size, output_size)\n",
    "\n",
    "X_test = torch.tensor([5], dtype = torch.float32)\n",
    "  \n",
    "    \n",
    "lrr = 0.01\n",
    "iter = 3000\n",
    "loss = nn.MSELoss()\n",
    "optimizer = torch.optim.SGD(model.parameters(), lrr)\n",
    "\n",
    "for epochs in range(iter):\n",
    "    # prediction = forward pass\n",
    "    y_pred = model(X)\n",
    "    \n",
    "    # loss\n",
    "    l = loss(Y,y_pred)\n",
    "    \n",
    "    #gradiant = backward pass\n",
    "    \n",
    "    l.backward() #gradiant of our loss\n",
    "    \n",
    "    #update weight\n",
    "    optimizer.step()\n",
    "    # empty the weights \n",
    "    optimizer.zero_grad()\n",
    "    \n",
    "    if epochs % 1000 == 0:\n",
    "        [w,b] = model.parameters()\n",
    "        print(f'epoch {epochs+1}: w = {w[0][0].item():.3f}, loss = {l:.8f}')\n",
    "        \n",
    "    \n",
    "print(f'prediction after training f(5) = {model(X_test).item():.3f}')\n",
    "\n",
    "# so we can see that we have trained up-untill the 4th number \n",
    "# and it could predict the 5th number correctly\n"
   ]
  },
  {
   "cell_type": "code",
   "execution_count": null,
   "metadata": {},
   "outputs": [],
   "source": []
  }
 ],
 "metadata": {
  "kernelspec": {
   "display_name": "Python 3",
   "language": "python",
   "name": "python3"
  },
  "language_info": {
   "codemirror_mode": {
    "name": "ipython",
    "version": 3
   },
   "file_extension": ".py",
   "mimetype": "text/x-python",
   "name": "python",
   "nbconvert_exporter": "python",
   "pygments_lexer": "ipython3",
   "version": "3.7.6"
  }
 },
 "nbformat": 4,
 "nbformat_minor": 4
}
