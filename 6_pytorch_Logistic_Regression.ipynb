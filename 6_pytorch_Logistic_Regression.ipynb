{
 "cells": [
  {
   "cell_type": "code",
   "execution_count": 1,
   "metadata": {},
   "outputs": [],
   "source": [
    "# steps\n",
    "# 1. Design model (input, output, forward pass)\n",
    "# 2. Construct loss and optimizer\n",
    "\n",
    "# 3. Training Loop\n",
    "    # - forward pass -> compute prediction\n",
    "    # - backward pass -> gradiants\n",
    "    # - update weights"
   ]
  },
  {
   "cell_type": "code",
   "execution_count": 3,
   "metadata": {},
   "outputs": [],
   "source": [
    "import torch\n",
    "import torch.nn as nn\n",
    "import numpy as np \n",
    "from sklearn import datasets\n",
    "from sklearn.preprocessing import StandardScaler\n",
    "from sklearn.model_selection import train_test_split\n",
    "import matplotlib.pyplot as plt"
   ]
  },
  {
   "cell_type": "code",
   "execution_count": 17,
   "metadata": {},
   "outputs": [
    {
     "name": "stdout",
     "output_type": "stream",
     "text": [
      "epoch: 10, loss=0.5345\n",
      "epoch: 20, loss=0.4628\n",
      "epoch: 30, loss=0.4134\n",
      "epoch: 40, loss=0.3770\n",
      "epoch: 50, loss=0.3488\n",
      "epoch: 60, loss=0.3261\n",
      "epoch: 70, loss=0.3074\n",
      "epoch: 80, loss=0.2917\n",
      "epoch: 90, loss=0.2782\n",
      "epoch: 100, loss=0.2665\n",
      "accuracy = 0.9649\n"
     ]
    }
   ],
   "source": [
    "# Steps\n",
    "# 0. Prepare dataset\n",
    "bc = datasets.load_breast_cancer()\n",
    "\n",
    "X,y = bc.data, bc.target\n",
    "\n",
    "n_sample, n_features = X.shape\n",
    "X.shape\n",
    "\n",
    "X_train, X_test, y_train, y_test = train_test_split(X, y, test_size=.2, random_state = 42)\n",
    "\n",
    "sc = StandardScaler() # mean 0 and variance 1\n",
    "\n",
    "X_train = sc.fit_transform(X_train)\n",
    "X_test = sc.transform(X_test)\n",
    "\n",
    "#convert to tensor\n",
    "X_train = torch.from_numpy(X_train.astype(np.float32))\n",
    "X_test = torch.from_numpy(X_test.astype(np.float32))\n",
    "y_train = torch.from_numpy(y_train.astype(np.float32))\n",
    "y_test = torch.from_numpy(y_test.astype(np.float32))\n",
    "\n",
    "#reshape y tensors\n",
    "\n",
    "y_train = y_train.view(y_train.shape[0], 1) #here 1 means all the y in 1 column\n",
    "y_test = y_test.view(y_test.shape[0], 1)\n",
    "\n",
    "# 1. Design model\n",
    "#f = wx + b\n",
    "\n",
    "class LogisticRegression(nn.Module):\n",
    "    def __init__(self, n_input_features):\n",
    "        super(LogisticRegression, self).__init__()\n",
    "        self.linear = nn.Linear(n_input_features, 1)\n",
    "        \n",
    "    def forward(self, x):\n",
    "        y_pred = torch.sigmoid(self.linear(x))\n",
    "        return y_pred\n",
    "    \n",
    "model = LogisticRegression(n_features)\n",
    "        \n",
    "# 2. Loss and optimizer\n",
    "lrrr = .01\n",
    "criterion = nn.BCELoss()\n",
    "optimizer = torch.optim.SGD(model.parameters(), lr=lrrr)\n",
    "\n",
    "# 3. Training Loop\n",
    "\n",
    "num_epochs = 100\n",
    "\n",
    "for epoch in range(num_epochs):\n",
    "    # forward pass and loss calculation\n",
    "    y_pred = model(X_train)\n",
    "    loss = criterion(y_pred, y_train)\n",
    "    #backward pass\n",
    "    loss.backward()\n",
    "    #updates\n",
    "    optimizer.step()\n",
    "    \n",
    "    #empty the gradients\n",
    "    optimizer.zero_grad()\n",
    "    \n",
    "    if(epoch + 1) % 10 == 0:\n",
    "        print(f'epoch: {epoch+1}, loss={loss.item():.4f}')\n",
    "        \n",
    "with torch.no_grad():\n",
    "    y_predicted = model(X_test)\n",
    "    y_class = y_predicted.round() # more than .5 will be considered as class 1\n",
    "    acc = y_class.eq(y_test).sum() / float(y_test.shape[0]) # for every correct guess +1\n",
    "    print(f'accuracy = {acc:.4f}')\n",
    "    \n",
    "\n"
   ]
  },
  {
   "cell_type": "code",
   "execution_count": null,
   "metadata": {},
   "outputs": [],
   "source": []
  }
 ],
 "metadata": {
  "kernelspec": {
   "display_name": "Python 3",
   "language": "python",
   "name": "python3"
  },
  "language_info": {
   "codemirror_mode": {
    "name": "ipython",
    "version": 3
   },
   "file_extension": ".py",
   "mimetype": "text/x-python",
   "name": "python",
   "nbconvert_exporter": "python",
   "pygments_lexer": "ipython3",
   "version": "3.7.6"
  }
 },
 "nbformat": 4,
 "nbformat_minor": 4
}
